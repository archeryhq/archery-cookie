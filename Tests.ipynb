{
 "cells": [
  {
   "cell_type": "markdown",
   "id": "491cab79-a4f4-4e2d-aa08-09b02e79f2fe",
   "metadata": {},
   "source": [
    "# Archery Cookie\n",
    "Cookies from Archery person."
   ]
  },
  {
   "cell_type": "markdown",
   "id": "2e52ce7e-a1bf-4e53-9973-b4eb6a2949f5",
   "metadata": {},
   "source": [
    "#### Imports and settings"
   ]
  },
  {
   "cell_type": "code",
   "execution_count": 1,
   "id": "2fac5ac9-5cff-4abf-993a-2c9f2f484090",
   "metadata": {},
   "outputs": [],
   "source": [
    "from archery_cookie import Cookie, CookieNotFound\n",
    "cookie = Cookie()\n",
    "me = {\n",
    "    'username': 'eniocsj',\n",
    "    'email': 'eniocsj@mail.com',\n",
    "    'enable': True,\n",
    "    'role': 1234\n",
    "}"
   ]
  },
  {
   "cell_type": "markdown",
   "id": "8ee74aef-4d7b-4f3e-ad36-0b3bc8a1a66d",
   "metadata": {},
   "source": [
    "#### New cookie"
   ]
  },
  {
   "cell_type": "code",
   "execution_count": 2,
   "id": "4836f888-186f-4220-826a-967e626cb03f",
   "metadata": {},
   "outputs": [
    {
     "name": "stdout",
     "output_type": "stream",
     "text": [
      "8Q33_2Xj3jfiz3xYHWHmvF_bPrx8iBpOskDtPhr51iE=\n"
     ]
    },
    {
     "data": {
      "text/plain": [
       "{'username': 'eniocsj',\n",
       " 'email': 'eniocsj@mail.com',\n",
       " 'enable': True,\n",
       " 'role': 1234}"
      ]
     },
     "execution_count": 2,
     "metadata": {},
     "output_type": "execute_result"
    }
   ],
   "source": [
    "new_cookie = cookie.new(me)\n",
    "print(new_cookie)\n",
    "cookie.get(new_cookie)"
   ]
  },
  {
   "cell_type": "markdown",
   "id": "8df9a624-6e2a-4234-bdac-59ce2405a857",
   "metadata": {},
   "source": [
    "#### Renew cookie"
   ]
  },
  {
   "cell_type": "code",
   "execution_count": 3,
   "id": "41ed5429-22e6-4e19-9867-1cde3a965643",
   "metadata": {},
   "outputs": [
    {
     "name": "stdout",
     "output_type": "stream",
     "text": [
      "J70O3WZXcrhC0S6hdcFkq5qP2aOGGN5A6aea7vdpPP4=\n"
     ]
    },
    {
     "data": {
      "text/plain": [
       "{'username': 'eniocsj',\n",
       " 'email': 'eniocsj@mail.com',\n",
       " 'enable': True,\n",
       " 'role': 1234}"
      ]
     },
     "execution_count": 3,
     "metadata": {},
     "output_type": "execute_result"
    }
   ],
   "source": [
    "renovable_cookie = cookie.renew(new_cookie)\n",
    "print(renovable_cookie)\n",
    "cookie.get(renovable_cookie)"
   ]
  },
  {
   "cell_type": "markdown",
   "id": "918c3a29-3e89-4f56-9fca-9e72c3c50d7e",
   "metadata": {},
   "source": [
    "#### Trying cookie reuse"
   ]
  },
  {
   "cell_type": "code",
   "execution_count": 4,
   "id": "ca6fc935-6008-474f-b002-42787af461e7",
   "metadata": {},
   "outputs": [
    {
     "name": "stdout",
     "output_type": "stream",
     "text": [
      "\u001b[1;31mCookie 8Q33_2Xj3jfiz3xYHWHmvF_bPrx8iBpOskDtPhr51iE= not found!\u001b[m\n"
     ]
    }
   ],
   "source": [
    "try:\n",
    "    cookie.renew(new_cookie)\n",
    "except CookieNotFound as error:\n",
    "    print(error)"
   ]
  },
  {
   "cell_type": "code",
   "execution_count": null,
   "id": "36454649-8562-4529-8eed-d4fe0d847bf5",
   "metadata": {},
   "outputs": [],
   "source": []
  },
  {
   "cell_type": "code",
   "execution_count": null,
   "id": "22133b66-b2f6-4bd5-aef1-eec9bcb33754",
   "metadata": {},
   "outputs": [],
   "source": []
  },
  {
   "cell_type": "code",
   "execution_count": null,
   "id": "c9840b09-2322-414e-ac9f-172b359b1f46",
   "metadata": {},
   "outputs": [],
   "source": []
  },
  {
   "cell_type": "code",
   "execution_count": null,
   "id": "5ffbde8b-a776-4dde-9f7c-79e64e70d925",
   "metadata": {},
   "outputs": [],
   "source": []
  },
  {
   "cell_type": "code",
   "execution_count": null,
   "id": "d2609406-632d-494f-b40c-1a9d948f9725",
   "metadata": {},
   "outputs": [],
   "source": []
  },
  {
   "cell_type": "code",
   "execution_count": null,
   "id": "b21c244c-3a83-4fc2-a8d8-fb80d6376dca",
   "metadata": {},
   "outputs": [],
   "source": []
  },
  {
   "cell_type": "code",
   "execution_count": null,
   "id": "a9c5e6db-16f0-4f6b-8d9d-a9cf8fb786db",
   "metadata": {},
   "outputs": [],
   "source": []
  },
  {
   "cell_type": "code",
   "execution_count": null,
   "id": "4782bdf4-35d8-49e4-9c2e-67606e417296",
   "metadata": {},
   "outputs": [],
   "source": []
  },
  {
   "cell_type": "code",
   "execution_count": null,
   "id": "5c4bad72-5e42-4ef3-9db8-c79563b6d353",
   "metadata": {},
   "outputs": [],
   "source": []
  },
  {
   "cell_type": "code",
   "execution_count": null,
   "id": "580cc4ad-21e8-4645-b0d2-4b257dcd0e7e",
   "metadata": {},
   "outputs": [],
   "source": []
  },
  {
   "cell_type": "code",
   "execution_count": null,
   "id": "5ce24080-018b-4672-8641-24ba2da44a8e",
   "metadata": {},
   "outputs": [],
   "source": []
  },
  {
   "cell_type": "code",
   "execution_count": null,
   "id": "925c9342-6299-4e57-877a-6c9d945356f3",
   "metadata": {},
   "outputs": [],
   "source": []
  }
 ],
 "metadata": {
  "kernelspec": {
   "display_name": "Python 3",
   "language": "python",
   "name": "python3"
  },
  "language_info": {
   "codemirror_mode": {
    "name": "ipython",
    "version": 3
   },
   "file_extension": ".py",
   "mimetype": "text/x-python",
   "name": "python",
   "nbconvert_exporter": "python",
   "pygments_lexer": "ipython3",
   "version": "3.9.2"
  }
 },
 "nbformat": 4,
 "nbformat_minor": 5
}
