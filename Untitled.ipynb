{
 "cells": [
  {
   "cell_type": "markdown",
   "id": "d0866ebb-80e3-4e9f-adb8-7756d76f9e4a",
   "metadata": {},
   "source": [
    "# Archery cookie\n",
    "Cookies from Archery person"
   ]
  },
  {
   "cell_type": "markdown",
   "id": "33a4d547-89de-4119-a77e-21ce1720bc24",
   "metadata": {},
   "source": [
    "#### Imports and settings"
   ]
  },
  {
   "cell_type": "code",
   "execution_count": 1,
   "id": "f9cfa02d-5c49-46c7-a15d-5027a5e8d5ef",
   "metadata": {},
   "outputs": [],
   "source": [
    "from archery_cookie import Cookie, CookieNotFound\n",
    "\n",
    "cookie = Cookie()\n",
    "me = {\n",
    "    'id': '1234',\n",
    "    'username': 'eniocsj',\n",
    "    'email': 'eniocsjunior@gmail.com',\n",
    "    'enabled': True,\n",
    "    'role': 'human'\n",
    "}"
   ]
  },
  {
   "cell_type": "markdown",
   "id": "8c5132ed-403e-473f-adf4-7fb47560b0c3",
   "metadata": {},
   "source": [
    "#### New cookie"
   ]
  },
  {
   "cell_type": "code",
   "execution_count": 2,
   "id": "242177db-9633-420b-b79c-d353e4efc4e4",
   "metadata": {
    "tags": []
   },
   "outputs": [
    {
     "name": "stdout",
     "output_type": "stream",
     "text": [
      "itskePN-gwi85go6zLb3YZCMTh6RIly5W0OZZXUo1aw=\n"
     ]
    },
    {
     "data": {
      "text/plain": [
       "{'id': '1234',\n",
       " 'username': 'eniocsj',\n",
       " 'email': 'eniocsjunior@gmail.com',\n",
       " 'enabled': True,\n",
       " 'role': 'human'}"
      ]
     },
     "execution_count": 2,
     "metadata": {},
     "output_type": "execute_result"
    }
   ],
   "source": [
    "new_cookie = cookie.new(me)\n",
    "print(new_cookie)\n",
    "cookie.get(new_cookie)"
   ]
  },
  {
   "cell_type": "markdown",
   "id": "32c0a1ff-31c7-48ab-ae75-13ff0caf3989",
   "metadata": {},
   "source": [
    "#### Renew cookie"
   ]
  },
  {
   "cell_type": "code",
   "execution_count": 3,
   "id": "b56ba5aa-68e1-4f04-8b49-e0f1050d7130",
   "metadata": {},
   "outputs": [
    {
     "name": "stdout",
     "output_type": "stream",
     "text": [
      "Bi58PM3GzqLkwSjzzTzacmCaawdVU-4k7I1V0Qh56m4=\n"
     ]
    },
    {
     "data": {
      "text/plain": [
       "{'id': '1234',\n",
       " 'username': 'eniocsj',\n",
       " 'email': 'eniocsjunior@gmail.com',\n",
       " 'enabled': True,\n",
       " 'role': 'human'}"
      ]
     },
     "execution_count": 3,
     "metadata": {},
     "output_type": "execute_result"
    }
   ],
   "source": [
    "renew = cookie.renew(new_cookie)\n",
    "print(renew)\n",
    "cookie.get(renew)"
   ]
  },
  {
   "cell_type": "markdown",
   "id": "166851f2-fe10-4306-8c92-2818cac6f8ab",
   "metadata": {},
   "source": [
    "## Errors"
   ]
  },
  {
   "cell_type": "markdown",
   "id": "6f7c3cf7-9621-4529-9e3e-92f8a252eddd",
   "metadata": {},
   "source": [
    "#### Using old cookie"
   ]
  },
  {
   "cell_type": "code",
   "execution_count": 5,
   "id": "41dc836d-9a40-4ec4-b80b-e242be595555",
   "metadata": {},
   "outputs": [
    {
     "name": "stdout",
     "output_type": "stream",
     "text": [
      "Cookie not found.\n"
     ]
    }
   ],
   "source": [
    "try:\n",
    "    cookie.renew('new_cookie')\n",
    "except CookieNotFound:\n",
    "    print('Cookie not found.')"
   ]
  },
  {
   "cell_type": "code",
   "execution_count": null,
   "id": "d7c86c7b-5f90-4108-997d-7b86e42a1911",
   "metadata": {},
   "outputs": [],
   "source": []
  },
  {
   "cell_type": "code",
   "execution_count": null,
   "id": "bfbc4306-b351-49d6-8c74-20ffbf2797f9",
   "metadata": {},
   "outputs": [],
   "source": []
  }
 ],
 "metadata": {
  "kernelspec": {
   "display_name": "Python 3",
   "language": "python",
   "name": "python3"
  },
  "language_info": {
   "codemirror_mode": {
    "name": "ipython",
    "version": 3
   },
   "file_extension": ".py",
   "mimetype": "text/x-python",
   "name": "python",
   "nbconvert_exporter": "python",
   "pygments_lexer": "ipython3",
   "version": "3.9.2"
  }
 },
 "nbformat": 4,
 "nbformat_minor": 5
}
